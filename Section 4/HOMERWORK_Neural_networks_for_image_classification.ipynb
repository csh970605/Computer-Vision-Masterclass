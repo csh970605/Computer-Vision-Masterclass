{
  "nbformat": 4,
  "nbformat_minor": 0,
  "metadata": {
    "colab": {
      "provenance": [],
      "collapsed_sections": [
        "c_8D8Q-5NR7z",
        "48crjefERiK8"
      ]
    },
    "kernelspec": {
      "name": "python3",
      "display_name": "Python 3"
    }
  },
  "cells": [
    {
      "cell_type": "markdown",
      "metadata": {
        "id": "Sd_h453YseEx"
      },
      "source": [
        "# Neural network for image classification - cats and dogs"
      ]
    },
    {
      "cell_type": "markdown",
      "metadata": {
        "id": "NMc-ovSUNUnI"
      },
      "source": [
        "## Approach 1 - extract all the pixels"
      ]
    },
    {
      "cell_type": "markdown",
      "metadata": {
        "id": "nA9a2AFmsiFJ"
      },
      "source": [
        "### Importing the libraries"
      ]
    },
    {
      "cell_type": "code",
      "metadata": {
        "id": "GFTBW79STIEY"
      },
      "source": [
        "import cv2\n",
        "import numpy as np\n",
        "import os\n",
        "import zipfile\n",
        "from google.colab.patches import cv2_imshow\n",
        "import tensorflow as tf\n",
        "import pandas as pd\n",
        "import seaborn as sns\n",
        "import matplotlib.pyplot as plt\n",
        "from sklearn.preprocessing import MinMaxScaler\n",
        "from sklearn.model_selection import train_test_split\n",
        "from sklearn.metrics import accuracy_score, confusion_matrix, classification_report"
      ],
      "execution_count": 1,
      "outputs": []
    },
    {
      "cell_type": "markdown",
      "metadata": {
        "id": "lW1ZuebL-Vm8"
      },
      "source": [
        "### Extracting pixels from images"
      ]
    },
    {
      "cell_type": "code",
      "source": [
        "zip_object = zipfile.ZipFile(file='cat_dog_1.zip', mode='r')\n",
        "zip_object.extractall('./')\n",
        "zip_object.close()"
      ],
      "metadata": {
        "id": "45leqL1cckZi"
      },
      "execution_count": 2,
      "outputs": []
    },
    {
      "cell_type": "code",
      "source": [
        "directory = 'cat_dog_1'\n",
        "files = [os.path.join(directory, f) for f in sorted(os.listdir(directory))]\n",
        "files = files[1:3]"
      ],
      "metadata": {
        "id": "d6ZTkbW2cswr"
      },
      "execution_count": 3,
      "outputs": []
    },
    {
      "cell_type": "code",
      "source": [
        "files"
      ],
      "metadata": {
        "colab": {
          "base_uri": "https://localhost:8080/"
        },
        "id": "zOaZJX1-go8e",
        "outputId": "54d21406-3c04-4c91-90a4-cb1a35a5f416"
      },
      "execution_count": 4,
      "outputs": [
        {
          "output_type": "execute_result",
          "data": {
            "text/plain": [
              "['cat_dog_1/test', 'cat_dog_1/train']"
            ]
          },
          "metadata": {},
          "execution_count": 4
        }
      ]
    },
    {
      "cell_type": "markdown",
      "metadata": {
        "id": "i_JyvsGn8nVJ"
      },
      "source": [
        "#### Train"
      ]
    },
    {
      "cell_type": "code",
      "source": [
        "height, width = 128, 128\n",
        "train_images = []\n",
        "train_classes = []"
      ],
      "metadata": {
        "id": "dqpuDDtlhjG-"
      },
      "execution_count": 5,
      "outputs": []
    },
    {
      "cell_type": "code",
      "source": [
        "train_directory = files[1]\n",
        "train_files = [os.path.join(train_directory, f) for f in sorted(os.listdir(train_directory))]"
      ],
      "metadata": {
        "id": "bwExsRvMcg3-"
      },
      "execution_count": 6,
      "outputs": []
    },
    {
      "cell_type": "code",
      "source": [
        "for image_path in train_files:\n",
        "  try:\n",
        "    image = cv2.imread(image_path)\n",
        "    (H, W) = image.shape[:2]\n",
        "  except:\n",
        "    continue\n",
        "  \n",
        "  image = cv2.resize(image, (width, height))\n",
        "  image = cv2.cvtColor(image, cv2.COLOR_BGR2GRAY)\n",
        "\n",
        "  image = image.ravel()\n",
        "  train_images.append(image)\n",
        "\n",
        "  image_name = os.path.basename(os.path.normpath(image_path))\n",
        "\n",
        "  if image_name.startswith('cat'):\n",
        "    class_name = 0\n",
        "  else :\n",
        "    class_name = 1\n",
        "  \n",
        "  train_classes.append(class_name)"
      ],
      "metadata": {
        "id": "PcgKbAN9hVP1"
      },
      "execution_count": 7,
      "outputs": []
    },
    {
      "cell_type": "code",
      "source": [
        "train_images = np.asarray(train_images)\n",
        "train_classes = np.asarray(train_classes)"
      ],
      "metadata": {
        "id": "DDhg2_bYj9Bi"
      },
      "execution_count": 8,
      "outputs": []
    },
    {
      "cell_type": "markdown",
      "metadata": {
        "id": "MhpQO_3M86TS"
      },
      "source": [
        "#### Test"
      ]
    },
    {
      "cell_type": "code",
      "source": [
        "test_images = []\n",
        "test_classes = []"
      ],
      "metadata": {
        "id": "NxZqA-uJidET"
      },
      "execution_count": 9,
      "outputs": []
    },
    {
      "cell_type": "code",
      "source": [
        "test_directory = files[0]\n",
        "test_files = [os.path.join(test_directory, f) for f in sorted(os.listdir(test_directory))]"
      ],
      "metadata": {
        "id": "kt8sX2bQigaz"
      },
      "execution_count": 10,
      "outputs": []
    },
    {
      "cell_type": "code",
      "source": [
        "for image_path in test_files:\n",
        "  try:\n",
        "    image = cv2.imread(image_path)\n",
        "    (H, W) = image.shape[:2]\n",
        "  except:\n",
        "    continue\n",
        "  \n",
        "  image = cv2.resize(image, (width, height))\n",
        "  image = cv2.cvtColor(image, cv2.COLOR_BGR2GRAY)\n",
        "\n",
        "  image = image.ravel()\n",
        "  test_images.append(image)\n",
        "\n",
        "  image_name = os.path.basename(os.path.normpath(image_path))\n",
        "\n",
        "  if image_name.startswith('cat'):\n",
        "    class_name = 0\n",
        "  else :\n",
        "    class_name = 1\n",
        "  \n",
        "  test_classes.append(class_name)"
      ],
      "metadata": {
        "id": "GwYPkDIfirQh"
      },
      "execution_count": 11,
      "outputs": []
    },
    {
      "cell_type": "code",
      "source": [
        "test_images = np.asarray(test_images)\n",
        "test_classes = np.asarray(test_classes)"
      ],
      "metadata": {
        "id": "kFk2io9kj2jE"
      },
      "execution_count": 12,
      "outputs": []
    },
    {
      "cell_type": "markdown",
      "metadata": {
        "id": "R0L0KqcGBs_c"
      },
      "source": [
        "### Normalizing the data"
      ]
    },
    {
      "cell_type": "code",
      "source": [
        "scaler = MinMaxScaler()\n",
        "train_images = scaler.fit_transform(train_images)\n",
        "test_images = scaler.transform(test_images)"
      ],
      "metadata": {
        "id": "H0UEGepNiywT"
      },
      "execution_count": 13,
      "outputs": []
    },
    {
      "cell_type": "markdown",
      "metadata": {
        "id": "c_8D8Q-5NR7z"
      },
      "source": [
        "### Building and training the neural network"
      ]
    },
    {
      "cell_type": "code",
      "source": [
        "input_size = (train_images.shape[1],)\n",
        "unit_size = (train_images.shape[1] + 2) / 2\n",
        "model = tf.keras.models.Sequential()\n",
        "model.add(tf.keras.layers.Dense(input_shape=input_size, units=unit_size, activation='relu'))\n",
        "model.add(tf.keras.layers.Dense(units=unit_size, activation='relu'))\n",
        "model.add(tf.keras.layers.Dense(units=1, activation='sigmoid'))"
      ],
      "metadata": {
        "id": "JaCo62w1jGwx"
      },
      "execution_count": 14,
      "outputs": []
    },
    {
      "cell_type": "code",
      "source": [
        "model.compile(optimizer='Adam', loss='binary_crossentropy', metrics=['accuracy'])"
      ],
      "metadata": {
        "id": "XlSjxgahjgJF"
      },
      "execution_count": 15,
      "outputs": []
    },
    {
      "cell_type": "code",
      "source": [
        "history = model.fit(train_images, train_classes, epochs=20)"
      ],
      "metadata": {
        "colab": {
          "base_uri": "https://localhost:8080/"
        },
        "id": "XbH08qE-jld5",
        "outputId": "0876a0d9-5339-4cae-c90f-56ba7e4437ba"
      },
      "execution_count": 16,
      "outputs": [
        {
          "output_type": "stream",
          "name": "stdout",
          "text": [
            "Epoch 1/20\n",
            "125/125 [==============================] - 442s 4s/step - loss: 6.5632 - accuracy: 0.5315\n",
            "Epoch 2/20\n",
            "125/125 [==============================] - 440s 4s/step - loss: 0.6844 - accuracy: 0.5605\n",
            "Epoch 3/20\n",
            "125/125 [==============================] - 432s 3s/step - loss: 0.6771 - accuracy: 0.5658\n",
            "Epoch 4/20\n",
            "125/125 [==============================] - 449s 4s/step - loss: 0.6849 - accuracy: 0.5683\n",
            "Epoch 5/20\n",
            "125/125 [==============================] - 448s 4s/step - loss: 0.6773 - accuracy: 0.5652\n",
            "Epoch 6/20\n",
            "125/125 [==============================] - 450s 4s/step - loss: 0.6900 - accuracy: 0.5280\n",
            "Epoch 7/20\n",
            "125/125 [==============================] - 441s 4s/step - loss: 0.6830 - accuracy: 0.5235\n",
            "Epoch 8/20\n",
            "125/125 [==============================] - 453s 4s/step - loss: 0.6790 - accuracy: 0.5480\n",
            "Epoch 9/20\n",
            "125/125 [==============================] - 442s 4s/step - loss: 0.6755 - accuracy: 0.5410\n",
            "Epoch 10/20\n",
            "125/125 [==============================] - 443s 4s/step - loss: 0.6744 - accuracy: 0.5420\n",
            "Epoch 11/20\n",
            "125/125 [==============================] - 442s 4s/step - loss: 0.6717 - accuracy: 0.5500\n",
            "Epoch 12/20\n",
            "125/125 [==============================] - 442s 4s/step - loss: 0.6578 - accuracy: 0.5953\n",
            "Epoch 13/20\n",
            "125/125 [==============================] - 443s 4s/step - loss: 0.6625 - accuracy: 0.5857\n",
            "Epoch 14/20\n",
            "125/125 [==============================] - 440s 4s/step - loss: 0.6527 - accuracy: 0.6037\n",
            "Epoch 15/20\n",
            "125/125 [==============================] - 442s 4s/step - loss: 0.6512 - accuracy: 0.6070\n",
            "Epoch 16/20\n",
            "125/125 [==============================] - 441s 4s/step - loss: 0.6724 - accuracy: 0.5885\n",
            "Epoch 17/20\n",
            "125/125 [==============================] - 442s 4s/step - loss: 0.6694 - accuracy: 0.5885\n",
            "Epoch 18/20\n",
            "125/125 [==============================] - 442s 4s/step - loss: 0.6522 - accuracy: 0.6003\n",
            "Epoch 19/20\n",
            "125/125 [==============================] - 457s 4s/step - loss: 0.6676 - accuracy: 0.5850\n",
            "Epoch 20/20\n",
            "125/125 [==============================] - 441s 4s/step - loss: 0.6473 - accuracy: 0.6143\n"
          ]
        }
      ]
    },
    {
      "cell_type": "markdown",
      "metadata": {
        "id": "48crjefERiK8"
      },
      "source": [
        "### Evaluating the neural network"
      ]
    },
    {
      "cell_type": "code",
      "source": [
        "predictions = model.predict(test_images)\n",
        "predictions = (predictions > 0.5)"
      ],
      "metadata": {
        "colab": {
          "base_uri": "https://localhost:8080/"
        },
        "id": "0Bxpu82pkap4",
        "outputId": "01767594-09d7-4d83-eba9-653a967a5eed"
      },
      "execution_count": 18,
      "outputs": [
        {
          "output_type": "stream",
          "name": "stdout",
          "text": [
            "32/32 [==============================] - 14s 428ms/step\n"
          ]
        }
      ]
    },
    {
      "cell_type": "code",
      "source": [
        "accuracy_score(test_classes, predictions)"
      ],
      "metadata": {
        "colab": {
          "base_uri": "https://localhost:8080/"
        },
        "id": "vO6-JLI0kd_5",
        "outputId": "756e9484-4de0-4b95-e53c-8a5baafbf3b1"
      },
      "execution_count": 19,
      "outputs": [
        {
          "output_type": "execute_result",
          "data": {
            "text/plain": [
              "0.589"
            ]
          },
          "metadata": {},
          "execution_count": 19
        }
      ]
    },
    {
      "cell_type": "code",
      "source": [
        "cm = confusion_matrix(test_classes, predictions)\n",
        "cm"
      ],
      "metadata": {
        "colab": {
          "base_uri": "https://localhost:8080/"
        },
        "id": "RwuJ7m2VkhVy",
        "outputId": "7249e1f7-34b8-486e-a354-d7f4854238df"
      },
      "execution_count": 20,
      "outputs": [
        {
          "output_type": "execute_result",
          "data": {
            "text/plain": [
              "array([[321, 179],\n",
              "       [232, 268]])"
            ]
          },
          "metadata": {},
          "execution_count": 20
        }
      ]
    },
    {
      "cell_type": "code",
      "source": [
        "sns.heatmap(cm, annot=True)"
      ],
      "metadata": {
        "colab": {
          "base_uri": "https://localhost:8080/",
          "height": 451
        },
        "id": "771Hgg7rki5X",
        "outputId": "f79ba0f0-4ffe-4c87-bc5b-4808c71dde28"
      },
      "execution_count": 21,
      "outputs": [
        {
          "output_type": "execute_result",
          "data": {
            "text/plain": [
              "<Axes: >"
            ]
          },
          "metadata": {},
          "execution_count": 21
        },
        {
          "output_type": "display_data",
          "data": {
            "text/plain": [
              "<Figure size 640x480 with 2 Axes>"
            ],
            "image/png": "[encoded data removed]"
          },
          "metadata": {}
        }
      ]
    },
    {
      "cell_type": "code",
      "source": [
        "print(classification_report(test_classes, predictions))"
      ],
      "metadata": {
        "colab": {
          "base_uri": "https://localhost:8080/"
        },
        "id": "9xLIRm1Hkkgg",
        "outputId": "51fdba7b-0ec0-4ecd-ad86-3701c87b5e47"
      },
      "execution_count": 22,
      "outputs": [
        {
          "output_type": "stream",
          "name": "stdout",
          "text": [
            "              precision    recall  f1-score   support\n",
            "\n",
            "           0       0.58      0.64      0.61       500\n",
            "           1       0.60      0.54      0.57       500\n",
            "\n",
            "    accuracy                           0.59      1000\n",
            "   macro avg       0.59      0.59      0.59      1000\n",
            "weighted avg       0.59      0.59      0.59      1000\n",
            "\n"
          ]
        }
      ]
    }
  ]
}